{
 "cells": [
  {
   "cell_type": "code",
   "execution_count": 1,
   "id": "87d680ff",
   "metadata": {},
   "outputs": [
    {
     "data": {
      "text/plain": [
       "'OK'"
      ]
     },
     "execution_count": 1,
     "metadata": {},
     "output_type": "execute_result"
    }
   ],
   "source": [
    "import pyautogui as pag\n",
    "import cv2\n",
    "pag.alert(text=\"Hello World\", title=\"The Hello World Box\")"
   ]
  },
  {
   "cell_type": "code",
   "execution_count": 2,
   "id": "987fae59",
   "metadata": {},
   "outputs": [
    {
     "data": {
      "text/plain": [
       "'OK'"
      ]
     },
     "execution_count": 2,
     "metadata": {},
     "output_type": "execute_result"
    }
   ],
   "source": [
    "import pyautogui as pag\n",
    "pag.alert(text=\"Alert Object is near to Machine possiblity of accident\", title=\"Industry Alert\")\n"
   ]
  },
  {
   "cell_type": "code",
   "execution_count": 3,
   "id": "c2c9e836",
   "metadata": {},
   "outputs": [
    {
     "ename": "error",
     "evalue": "OpenCV(4.5.5) D:\\a\\opencv-python\\opencv-python\\opencv\\modules\\imgproc\\src\\color.cpp:182: error: (-215:Assertion failed) !_src.empty() in function 'cv::cvtColor'\n",
     "output_type": "error",
     "traceback": [
      "\u001b[1;31m---------------------------------------------------------------------------\u001b[0m",
      "\u001b[1;31merror\u001b[0m                                     Traceback (most recent call last)",
      "\u001b[1;32m~\\AppData\\Local\\Temp/ipykernel_23980/3115906549.py\u001b[0m in \u001b[0;36m<module>\u001b[1;34m\u001b[0m\n\u001b[0;32m     82\u001b[0m \u001b[1;33m\u001b[0m\u001b[0m\n\u001b[0;32m     83\u001b[0m \u001b[1;32mif\u001b[0m \u001b[0m__name__\u001b[0m \u001b[1;33m==\u001b[0m \u001b[1;34m'__main__'\u001b[0m\u001b[1;33m:\u001b[0m\u001b[1;33m\u001b[0m\u001b[1;33m\u001b[0m\u001b[0m\n\u001b[1;32m---> 84\u001b[1;33m     \u001b[0mstatic_ROI\u001b[0m \u001b[1;33m=\u001b[0m \u001b[0mstaticROI\u001b[0m\u001b[1;33m(\u001b[0m\u001b[1;33m)\u001b[0m\u001b[1;33m\u001b[0m\u001b[1;33m\u001b[0m\u001b[0m\n\u001b[0m",
      "\u001b[1;32m~\\AppData\\Local\\Temp/ipykernel_23980/3115906549.py\u001b[0m in \u001b[0;36m__init__\u001b[1;34m(self)\u001b[0m\n\u001b[0;32m      8\u001b[0m         \u001b[0mself\u001b[0m\u001b[1;33m.\u001b[0m\u001b[0mselected_ROI\u001b[0m \u001b[1;33m=\u001b[0m \u001b[1;32mFalse\u001b[0m\u001b[1;33m\u001b[0m\u001b[1;33m\u001b[0m\u001b[0m\n\u001b[0;32m      9\u001b[0m \u001b[1;33m\u001b[0m\u001b[0m\n\u001b[1;32m---> 10\u001b[1;33m         \u001b[0mself\u001b[0m\u001b[1;33m.\u001b[0m\u001b[0mupdate\u001b[0m\u001b[1;33m(\u001b[0m\u001b[1;33m)\u001b[0m\u001b[1;33m\u001b[0m\u001b[1;33m\u001b[0m\u001b[0m\n\u001b[0m\u001b[0;32m     11\u001b[0m \u001b[1;33m\u001b[0m\u001b[0m\n\u001b[0;32m     12\u001b[0m     \u001b[1;32mdef\u001b[0m \u001b[0mupdate\u001b[0m\u001b[1;33m(\u001b[0m\u001b[0mself\u001b[0m\u001b[1;33m)\u001b[0m\u001b[1;33m:\u001b[0m\u001b[1;33m\u001b[0m\u001b[1;33m\u001b[0m\u001b[0m\n",
      "\u001b[1;32m~\\AppData\\Local\\Temp/ipykernel_23980/3115906549.py\u001b[0m in \u001b[0;36mupdate\u001b[1;34m(self)\u001b[0m\n\u001b[0;32m     15\u001b[0m                 \u001b[1;31m# Read frame\u001b[0m\u001b[1;33m\u001b[0m\u001b[1;33m\u001b[0m\u001b[0m\n\u001b[0;32m     16\u001b[0m                 \u001b[1;33m(\u001b[0m\u001b[0mself\u001b[0m\u001b[1;33m.\u001b[0m\u001b[0mstatus\u001b[0m\u001b[1;33m,\u001b[0m \u001b[0mself\u001b[0m\u001b[1;33m.\u001b[0m\u001b[0mframe\u001b[0m\u001b[1;33m)\u001b[0m \u001b[1;33m=\u001b[0m \u001b[0mself\u001b[0m\u001b[1;33m.\u001b[0m\u001b[0mcapture\u001b[0m\u001b[1;33m.\u001b[0m\u001b[0mread\u001b[0m\u001b[1;33m(\u001b[0m\u001b[1;33m)\u001b[0m\u001b[1;33m\u001b[0m\u001b[1;33m\u001b[0m\u001b[0m\n\u001b[1;32m---> 17\u001b[1;33m                 \u001b[0mcv2\u001b[0m\u001b[1;33m.\u001b[0m\u001b[0mimshow\u001b[0m\u001b[1;33m(\u001b[0m\u001b[1;34m'image'\u001b[0m\u001b[1;33m,\u001b[0m \u001b[0mself\u001b[0m\u001b[1;33m.\u001b[0m\u001b[0mframe\u001b[0m\u001b[1;33m)\u001b[0m\u001b[1;33m\u001b[0m\u001b[1;33m\u001b[0m\u001b[0m\n\u001b[0m\u001b[0;32m     18\u001b[0m                 \u001b[0mkey\u001b[0m \u001b[1;33m=\u001b[0m \u001b[0mcv2\u001b[0m\u001b[1;33m.\u001b[0m\u001b[0mwaitKey\u001b[0m\u001b[1;33m(\u001b[0m\u001b[1;36m2\u001b[0m\u001b[1;33m)\u001b[0m\u001b[1;33m\u001b[0m\u001b[1;33m\u001b[0m\u001b[0m\n\u001b[0;32m     19\u001b[0m \u001b[1;33m\u001b[0m\u001b[0m\n",
      "\u001b[1;31merror\u001b[0m: OpenCV(4.5.5) D:\\a\\opencv-python\\opencv-python\\opencv\\modules\\imgproc\\src\\color.cpp:182: error: (-215:Assertion failed) !_src.empty() in function 'cv::cvtColor'\n"
     ]
    }
   ],
   "source": [
    "\n",
    "\n",
    "class staticROI(object):\n",
    "    def __init__(self):\n",
    "        self.capture = cv2.VideoCapture('industry.mp4')\n",
    "\n",
    "        # Bounding box reference points and boolean if we are extracting coordinates\n",
    "        self.image_coordinates = []\n",
    "        self.extract = False\n",
    "        self.selected_ROI = False\n",
    "\n",
    "        self.update()\n",
    "\n",
    "    def update(self):\n",
    "        while True:\n",
    "            if self.capture.isOpened():\n",
    "                # Read frame\n",
    "                (self.status, self.frame) = self.capture.read()\n",
    "                cv2.imshow('image', self.frame)\n",
    "                key = cv2.waitKey(2)\n",
    "\n",
    "                # Crop image\n",
    "                if key == ord('c'):\n",
    "                    self.clone = self.frame.copy()\n",
    "                    cv2.namedWindow('image')\n",
    "                    cv2.setMouseCallback('image', self.extract_coordinates)\n",
    "                    while True:\n",
    "                        key = cv2.waitKey(2)\n",
    "                        cv2.imshow('image', self.clone)\n",
    "\n",
    "                        # Crop and display cropped image\n",
    "                        if key == ord('c'):\n",
    "                            self.crop_ROI()\n",
    "                            self.show_cropped_ROI()\n",
    "\n",
    "                        # Resume video\n",
    "                        if key == ord('r'):\n",
    "                            break\n",
    "                # Close program with keyboard 'q'\n",
    "                if key == ord('q'):\n",
    "                    cv2.destroyAllWindows()\n",
    "                    exit(1)\n",
    "            else:\n",
    "                pass\n",
    "\n",
    "    def extract_coordinates(self, event, x, y, flags, parameters):\n",
    "        # Record starting (x,y) coordinates on left mouse button click\n",
    "        if event == cv2.EVENT_LBUTTONDOWN:\n",
    "            self.image_coordinates = [(x,y)]\n",
    "            self.extract = True\n",
    "\n",
    "        # Record ending (x,y) coordintes on left mouse bottom release\n",
    "        elif event == cv2.EVENT_LBUTTONUP:\n",
    "            self.image_coordinates.append((x,y))\n",
    "            self.extract = False\n",
    "\n",
    "            self.selected_ROI = True\n",
    "\n",
    "            # Draw rectangle around ROI\n",
    "            cv2.rectangle(self.clone, self.image_coordinates[0], self.image_coordinates[1], (0,255,0), 2)\n",
    "\n",
    "        # Clear drawing boxes on right mouse button click\n",
    "        elif event == cv2.EVENT_RBUTTONDOWN:\n",
    "            self.clone = self.frame.copy()\n",
    "            self.selected_ROI = False\n",
    "\n",
    "    def crop_ROI(self):\n",
    "        if self.selected_ROI:\n",
    "            self.cropped_image = self.frame.copy()\n",
    "\n",
    "            x1 = self.image_coordinates[0][0]\n",
    "            y1 = self.image_coordinates[0][1]\n",
    "            x2 = self.image_coordinates[1][0]\n",
    "            y2 = self.image_coordinates[1][1]\n",
    "\n",
    "            self.cropped_image = self.cropped_image[y1:y2, x1:x2]\n",
    "\n",
    "            print('Cropped image: {} {}'.format(self.image_coordinates[0], self.image_coordinates[1]))\n",
    "        else:\n",
    "            print('Select ROI to crop before cropping')\n",
    "\n",
    "    def show_cropped_ROI(self):\n",
    "        cv2.imshow('cropped image', self.cropped_image)\n",
    "\n",
    "if __name__ == '__main__':\n",
    "    static_ROI = staticROI()"
   ]
  },
  {
   "cell_type": "code",
   "execution_count": null,
   "id": "3af7b5cb",
   "metadata": {},
   "outputs": [],
   "source": []
  }
 ],
 "metadata": {
  "kernelspec": {
   "display_name": "Python 3 (ipykernel)",
   "language": "python",
   "name": "python3"
  },
  "language_info": {
   "codemirror_mode": {
    "name": "ipython",
    "version": 3
   },
   "file_extension": ".py",
   "mimetype": "text/x-python",
   "name": "python",
   "nbconvert_exporter": "python",
   "pygments_lexer": "ipython3",
   "version": "3.9.7"
  }
 },
 "nbformat": 4,
 "nbformat_minor": 5
}
