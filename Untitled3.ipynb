{
 "cells": [
  {
   "cell_type": "code",
   "execution_count": 1,
   "id": "937abb2c",
   "metadata": {},
   "outputs": [
    {
     "name": "stdout",
     "output_type": "stream",
     "text": [
      "Rectangles Overlap\n"
     ]
    }
   ],
   "source": [
    "\n",
    "class Point:\n",
    "    def __init__(self, x, y):\n",
    "        self.x = x\n",
    "        self.y = y\n",
    " \n",
    "# Returns true if two rectangles(l1, r1)\n",
    "# and (l2, r2) overlap\n",
    "def doOverlap(l1, r1, l2, r2):\n",
    "     \n",
    "    # To check if either rectangle is actually a line\n",
    "      # For example  :  l1 ={-1,0}  r1={1,1}  l2={0,-1}  r2={0,1}\n",
    "       \n",
    "    if (l1.x == r1.x or l1.y == r1.y or l2.x == r2.x or l2.y == r2.y):\n",
    "        # the line cannot have positive overlap\n",
    "        return False\n",
    "       \n",
    "     \n",
    "    # If one rectangle is on left side of other\n",
    "    if(l1.x >= r2.x or l2.x >= r1.x):\n",
    "        return False\n",
    " \n",
    "    # If one rectangle is above other\n",
    "    if(r1.y >= l2.y or r2.y >= l1.y):\n",
    "        return False\n",
    " \n",
    "    return True\n",
    " \n",
    "# Driver Code\n",
    "if __name__ == \"__main__\":\n",
    "    l1 = Point(0, 10)\n",
    "    r1 = Point(10, 0)\n",
    "    l2 = Point(5, 5)\n",
    "    r2 = Point(15, 0)\n",
    " \n",
    "    if(doOverlap(l1, r1, l2, r2)):\n",
    "        print(\"Rectangles Overlap\")\n",
    "    else:\n",
    "        print(\"Rectangles Don't Overlap\")\n",
    " "
   ]
  },
  {
   "cell_type": "code",
   "execution_count": null,
   "id": "026abbfd",
   "metadata": {},
   "outputs": [],
   "source": []
  }
 ],
 "metadata": {
  "kernelspec": {
   "display_name": "Python 3 (ipykernel)",
   "language": "python",
   "name": "python3"
  },
  "language_info": {
   "codemirror_mode": {
    "name": "ipython",
    "version": 3
   },
   "file_extension": ".py",
   "mimetype": "text/x-python",
   "name": "python",
   "nbconvert_exporter": "python",
   "pygments_lexer": "ipython3",
   "version": "3.9.7"
  }
 },
 "nbformat": 4,
 "nbformat_minor": 5
}
